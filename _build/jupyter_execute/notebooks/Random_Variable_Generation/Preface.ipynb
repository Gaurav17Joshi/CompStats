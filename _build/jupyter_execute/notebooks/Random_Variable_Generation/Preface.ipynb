{
 "cells": [
  {
   "attachments": {},
   "cell_type": "markdown",
   "metadata": {},
   "source": [
    "# Random Variable Generation\n",
    "\n",
    "In this chapter we will explore the important concept of Random Variables and Random Numbers and look at ways of generating them.\n",
    "\n",
    "The first section is on Baisc random variable genration using the exact method of Inverse Transform methods, followed by approximate methods of Acceptance Rejection Sampling.\n",
    "\n",
    "The next section is on using these methods to sample out some import random variables\n",
    "\n",
    "The next section is on more complicated algorithms to produce random variables\n",
    "\n",
    "The next section is on Pseudo Random number generator.\n",
    "\n",
    "\n",
    "What are random variables, how we can approach the problem, also, we need a uniform prng. Use of random variables"
   ]
  },
  {
   "cell_type": "code",
   "execution_count": null,
   "metadata": {},
   "outputs": [],
   "source": []
  }
 ],
 "metadata": {
  "language_info": {
   "name": "python"
  }
 },
 "nbformat": 4,
 "nbformat_minor": 2
}