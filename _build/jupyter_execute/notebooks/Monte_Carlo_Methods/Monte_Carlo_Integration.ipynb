{
 "cells": [
  {
   "attachments": {},
   "cell_type": "markdown",
   "metadata": {},
   "source": [
    "# Monte Carlo Integration"
   ]
  },
  {
   "attachments": {},
   "cell_type": "markdown",
   "metadata": {},
   "source": [
    "## Basic Theory\n",
    "\n",
    "As we have seen that many integrals do not have analytic solutions and thier values are difficult to calculate with even deterministic methods. In monte carlo integration, we treat the **integral as an expectation**, and this leads to surprisingly efficient and potent ways of integral calculation."
   ]
  },
  {
   "attachments": {},
   "cell_type": "markdown",
   "metadata": {},
   "source": [
    "We from statistics theory that expectation of any function $h(x)$ of a random variable with pdf $f(x)$ is:\n",
    "\n",
    "$ \\mathbb{E}_{f} [h(X)] = \\int_{X} h(x) f(x) dx   $  , $X$ is the domian of the random variable\n",
    "\n",
    "And from law of large numbers, we can express the expectation in terms of samples as:-\n",
    "\n",
    "$ \\bar h_{m} = \\frac{1}{m} \\sum_{j=1}^m h(x_{j})  $, thus we can approximate any integral as an expectation, if we choose the correct h(x), and f(x) to get the target function, and the range of the random variable as the limits of the integral.\n",
    "\n",
    "**Variance**:\n",
    "\n",
    "We can measure the speed of convergence to the integral by evaluating the variance, \n",
    "\n",
    "$ v_m = \\frac{1}{m^2} \\sum_{j=1}^m [ h(x_{j}) - \\bar h_{m} ]^{2} $  \n"
   ]
  },
  {
   "attachments": {},
   "cell_type": "markdown",
   "metadata": {},
   "source": [
    "## Basic Examples\n",
    "\n",
    "1. Estimating $ \\int_{0}^{1} e^{-x} dx $\n",
    "\n",
    "1. Estimating $ \\int_{2}^{4} e^{-x} dx $\n",
    "\n",
    "We will use $ f(x) = U(0,1) $, and $ h(x) = e^{-x} $\n",
    "\n",
    "We will use $ f(x) = U(2,4) $, and $ h(x) = 2*e^{-x} $"
   ]
  },
  {
   "cell_type": "code",
   "execution_count": 8,
   "metadata": {},
   "outputs": [
    {
     "name": "stdout",
     "output_type": "stream",
     "text": [
      "The exact value of the integral is: 0.1170\n",
      "The MC estimate for m = 5 is: 0.1022 with variance: 0.0031\n",
      "The MC estimate for m = 10 is: 0.1349 with variance: 0.0067\n",
      "The MC estimate for m = 100 is: 0.1250 with variance: 0.0045\n",
      "The MC estimate for m = 1000 is: 0.1181 with variance: 0.0044\n",
      "The MC estimate for m = 10000 is: 0.1178 with variance: 0.0043\n",
      "The MC estimate for m = 100000 is: 0.1170 with variance: 0.0043\n"
     ]
    }
   ],
   "source": [
    "import numpy as np\n",
    "from numpy import random\n",
    "random.seed(42)\n",
    "\n",
    "m = [5,10,100,1000,10000,100000]\n",
    "\n",
    "def h(x):\n",
    "    return 2*np.exp(-x)\n",
    "\n",
    "print(\"The exact value of the integral is: %.4f\" % (np.exp(-2) - np.exp(-4)))\n",
    "\n",
    "for i in m:\n",
    "    x = random.uniform(2, 4, i)\n",
    "    y = h(x)\n",
    "    print(\"The MC estimate for m = %d is: %.4f\" % (i, np.mean(y)), \"with variance: %.4f\" % np.var(y))\n"
   ]
  },
  {
   "attachments": {},
   "cell_type": "markdown",
   "metadata": {},
   "source": [
    "Can do the sin example form tough book and compare with numerical methods"
   ]
  },
  {
   "attachments": {},
   "cell_type": "markdown",
   "metadata": {},
   "source": [
    "## Understanding Variance\n",
    "\n",
    "Explain, the variance, how it slowly it goes down etc."
   ]
  },
  {
   "attachments": {},
   "cell_type": "markdown",
   "metadata": {},
   "source": [
    "Do the simple example 120, with comparison with numerical method\n",
    "Do example 121\n",
    "Normal example"
   ]
  },
  {
   "attachments": {},
   "cell_type": "markdown",
   "metadata": {},
   "source": [
    "## Importance Sampling\n",
    "\n"
   ]
  },
  {
   "attachments": {},
   "cell_type": "markdown",
   "metadata": {},
   "source": [
    "$ m(x) =  \\sum_{i=1}^n A_{i} * \\mathcal{N}(t_{i}, \\sigma_{i})(x)  $"
   ]
  }
 ],
 "metadata": {
  "kernelspec": {
   "display_name": "statsenv",
   "language": "python",
   "name": "python3"
  },
  "language_info": {
   "codemirror_mode": {
    "name": "ipython",
    "version": 3
   },
   "file_extension": ".py",
   "mimetype": "text/x-python",
   "name": "python",
   "nbconvert_exporter": "python",
   "pygments_lexer": "ipython3",
   "version": "3.11.4"
  }
 },
 "nbformat": 4,
 "nbformat_minor": 2
}