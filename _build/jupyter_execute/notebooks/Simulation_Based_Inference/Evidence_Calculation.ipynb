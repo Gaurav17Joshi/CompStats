{
 "cells": [
  {
   "attachments": {},
   "cell_type": "markdown",
   "metadata": {},
   "source": [
    "# Bayesian Evidence\n",
    "\n",
    "Evaluating marginal likelihood with MCMC is non-trivial. Marginal likelihood is an integral over the prior, but it is usually very heavily dominated by a very small part of the space and hence sampling from the prior to evaluate it results in very high variance of the results. (Why high variance?)\n",
    "\n",
    "It is possible to construct an importance sampling estimator to the marginal likelihood as the so called harmonic mean estimator, but this is extremely unreliable in practice and should never be used.\n",
    "\n",
    "Will see in examples for log(Z)\n",
    "Using mcmc sampling, numerically, importance sampling, laplace approximation, thermodynamic integral\n",
    "\n",
    "## Laplace Approximation\n",
    "\n",
    "## Thermodynamic Integration\n",
    "\n",
    "Also nested sampling, and multi modal nested sampling"
   ]
  },
  {
   "cell_type": "code",
   "execution_count": null,
   "metadata": {},
   "outputs": [],
   "source": []
  }
 ],
 "metadata": {
  "kernelspec": {
   "display_name": "statsenv",
   "language": "python",
   "name": "python3"
  },
  "language_info": {
   "name": "python",
   "version": "3.11.4"
  }
 },
 "nbformat": 4,
 "nbformat_minor": 2
}