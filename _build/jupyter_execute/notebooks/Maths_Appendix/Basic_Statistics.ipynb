{
 "cells": [
  {
   "attachments": {},
   "cell_type": "markdown",
   "metadata": {},
   "source": [
    "# Basic Statistics\n",
    "\n",
    "## Statistic\n",
    "\n",
    "Let $ \\{ X_1, X_2, ... X_n \\} $ be a Random Sample set and $\\{x_1, x_2, ... x_n \\} $ be the observed sample, the \n",
    "\n",
    "A statistic $T_n = T(X_1, X_2, ... X_n) $, is a function of a sample used to estimate the value of a parameter or something else (quantile, means etc)\n",
    "\n",
    "Properties of statistic's:-\n",
    "1. **Unbiased**, a statistic whose expectation value is equal to the target parameter\n",
    "\n",
    "**Sample Mean Statistic (iid)**\n",
    "$ \\bar{X} = \\frac{1}{n} \\sum_{i = 1}^{n} X_i $ is called the mean statistic. It is an unbiased statistic as it has\n",
    "\n",
    "$\\mathbb{E}[\\bar{X}] = \\mu_{X} $, and $Var(\\bar{X}) = \\frac{\\sigma_{X}^2}{n} $\n",
    "\n",
    "**Sample Variance Statistic (iid)**\n",
    "$ S^2 = \\frac{1}{n-1} \\sum_{i=1}^{n} (X_i - \\bar{X})^2 $ is called the variance statistics, it an unbiased statistic for the variance of RV X.\n",
    "\n",
    "$ \\mathbb{E}[S^2] = \\frac{1}{n-1}[ \\sum_{i} \\mathbb{E}[X_i^2] - n \\mathbb{E}[\\bar{X}^2]] $, also ,$\\mathbb{E}[X_i^2] = var(X) + \\mu_{X}$, hense $ = \\frac{1}{n-1}[ n\\sigma^2 + n\\mu^2 - n \\frac{1}{n} \\sigma^2 - n \\mu^2 ] = \\sigma^2  $, here we used $ \\mathbb{E}[\\bar{X}^2] = Var(\\bar{X}^2) + \\mu_{\\bar{X}}^2 $, and used the results from up.\n"
   ]
  },
  {
   "cell_type": "code",
   "execution_count": null,
   "metadata": {},
   "outputs": [],
   "source": []
  }
 ],
 "metadata": {
  "language_info": {
   "name": "python"
  }
 },
 "nbformat": 4,
 "nbformat_minor": 2
}