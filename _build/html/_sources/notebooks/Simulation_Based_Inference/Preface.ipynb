{
 "cells": [
  {
   "attachments": {},
   "cell_type": "markdown",
   "metadata": {},
   "source": [
    "# Simulation Based Inference\n",
    "\n",
    "For most probabilistic models of practical interest, exact inference is intractable, and so we have to resort to some form of approximation. \n",
    "\n",
    "The fundamental problem that we therefore wish to address in this chapter involves finding the expectation of some function $f(z)$ with respect to a probability distribution $p(z)$.\n",
    "\n",
    "We will try to understand the Monte-Carlo Methods for Sampling, and understand how they are used in Bayesian Analysis.\n"
   ]
  },
  {
   "cell_type": "code",
   "execution_count": null,
   "metadata": {},
   "outputs": [],
   "source": []
  }
 ],
 "metadata": {
  "language_info": {
   "name": "python"
  },
  "orig_nbformat": 4
 },
 "nbformat": 4,
 "nbformat_minor": 2
}
