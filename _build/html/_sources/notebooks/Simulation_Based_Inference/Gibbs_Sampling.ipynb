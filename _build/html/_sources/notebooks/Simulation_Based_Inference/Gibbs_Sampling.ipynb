{
 "cells": [
  {
   "attachments": {},
   "cell_type": "markdown",
   "metadata": {},
   "source": [
    "# Gibbs Sampling\n",
    "\n",
    "## Basic Implimenataion\n",
    "\n",
    "A particular Markov chain algorithm that has been found useful in many multidimensional problems is the Gibbs sampler, also called alternating conditional sampling, which is defined in terms of subvectors of $\\theta$.\n",
    "\n",
    "We first divide the parameter vector to its subvectors $\\theta = (\\theta_{1}, ... \\theta_{d})$.\n",
    "\n",
    "Each iteration of the Gibbs sampler cycles through the subvectors of $\\theta$, drawing each subset conditional on the value of all the others. There are thus $d$ steps in iteration $t$. At each iteration $t$, an ordering of the d subvectors of $\\theta$ is chosen and, in turn, each $\\theta_{j}^{t}$ is sampled from the conditional distribution given all the other components of $\\theta$\n",
    "\n",
    "$$\n",
    "p(\\theta_j | \\theta_{-j}^{t-1}, y)\n",
    "$$\n",
    "where $\\theta_{-j}^{t-1}$, represents all the components of $\\theta$ except for $\\theta_j$:\n",
    "\n",
    "$$\n",
    "\\theta_{-j}^{t-1} = (\\theta_{1}^{t}, \\theta_{2}^{t}, ... ,\\theta_{j-1}^{t}, \\theta_{j+1}^{t-1}, .... \\theta_{d}^{t-1})\n",
    "$$\n",
    "\n",
    "We sample out $\\theta_{j}$, conditioned on the value  of other parameters obtained up till now. It is quite useful in multidimensional cases, where the conditional distribution is easy to get.\n",
    "\n",
    "## Simple Example:-\n",
    "**Bivariate Normal Distribution**\n",
    "\n",
    "We will use the same example as in metropolis sampling example to check gibbs sampling."
   ]
  },
  {
   "cell_type": "code",
   "execution_count": null,
   "metadata": {},
   "outputs": [],
   "source": [
    "# Making a simple implementation of Gibbs Sampling\n",
    "\n",
    "\n",
    "\n"
   ]
  }
 ],
 "metadata": {
  "kernelspec": {
   "display_name": "statsenv",
   "language": "python",
   "name": "python3"
  },
  "language_info": {
   "name": "python",
   "version": "3.11.4"
  },
  "orig_nbformat": 4
 },
 "nbformat": 4,
 "nbformat_minor": 2
}
