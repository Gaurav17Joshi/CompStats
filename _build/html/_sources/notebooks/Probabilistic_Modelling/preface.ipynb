{
 "cells": [
  {
   "attachments": {},
   "cell_type": "markdown",
   "metadata": {},
   "source": [
    "# Probabilistic Modelling\n",
    "\n",
    "The main use of Computational Statistics is in Probabilistic Modelling and related problems, which are a mainstay of modern machine learning research. In this part, we will first understand about Graphical Models and slowly understand other probabilistic models in detail."
   ]
  },
  {
   "cell_type": "code",
   "execution_count": null,
   "metadata": {},
   "outputs": [],
   "source": []
  }
 ],
 "metadata": {
  "language_info": {
   "name": "python"
  },
  "orig_nbformat": 4
 },
 "nbformat": 4,
 "nbformat_minor": 2
}
