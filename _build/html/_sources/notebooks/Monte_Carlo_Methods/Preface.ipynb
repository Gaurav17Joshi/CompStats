{
 "cells": [
  {
   "attachments": {},
   "cell_type": "markdown",
   "metadata": {},
   "source": [
    "# Monte Carlo Methods"
   ]
  },
  {
   "attachments": {},
   "cell_type": "markdown",
   "metadata": {},
   "source": [
    "In this chapter we will be looking at Monte carlo methods, mainly for integration and optimisation\n",
    "\n",
    "**What is numerical integration?**\n",
    "\n",
    "Numerical integration, also called ‘quadrature,’ refers to methods in which the integral over continuous function is evaluated by computing the value of the function at finite number of points. By increasing the number of points where the function is evaluated, desired accuracy can be obtained. Numerical integration methods can be divided to simulation (stochastic) methods, such as Monte Carlo, and deterministic methods such as many quadrature rule methods.\n",
    "\n",
    "**Simulation Methods:**\n",
    "\n",
    "Simulation or stochastic methods are based on treating integrals as expectations.\n",
    "We obtain random samples $\\theta^{s}$ from the desired distribution $p(\\theta)$, and estimate the expectation of any function $h(\\theta|y)$\n",
    "\n",
    "$$\n",
    "\\int_{} h(\\theta) p(\\theta|y) d \\theta = \\mathbb{E} (h(\\theta)|y)  \\sim \\frac{1}{S} \\sum_{s = 1}^{S} h(\\theta^s)  \n",
    "$$\n",
    "\n",
    "Simulation methods can be used for high-dimensional distributions, and there are general algorithms which work for a wide variety of models.\n",
    "\n",
    "**Deterministic Methods:**\n",
    "\n",
    "Deterministic numerical integration methods are based on evaluating the integrand $h(\\theta) p(\\theta|y)$ at selected points $\\theta^s$, as a weighted version of simulation method.\n",
    "\n",
    "$$\n",
    "\\int_{} h(\\theta) p(\\theta|y) d \\theta  \\sim \\frac{1}{S} \\sum_{s = 1}^{S} w_s h(\\theta^s) p(\\theta^s|y)   \n",
    "$$\n",
    "\n",
    "The weights are obtained using rules like the Simpsons rule, local polynomial approximations. Determin- istic numerical integration rules typically have lower variance than simulation methods, but selection of locations gets difficult in high dimensions.\n",
    "\n",
    "Grid methods (a grid in the parameter space with equal weights) are also part of deterministic methods, but they are difficult to scale to higher dimensions.\n",
    "\n",
    "\n",
    "Here, we will be studying simulation methods to evaluate integrals, but we will be comparing them with their deterministic  counterparts to see how the comparison, and look for scope of collaboration between the two."
   ]
  },
  {
   "cell_type": "code",
   "execution_count": null,
   "metadata": {},
   "outputs": [],
   "source": []
  }
 ],
 "metadata": {
  "language_info": {
   "name": "python"
  },
  "orig_nbformat": 4
 },
 "nbformat": 4,
 "nbformat_minor": 2
}
