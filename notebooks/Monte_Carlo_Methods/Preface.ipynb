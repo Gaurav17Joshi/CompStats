{
 "cells": [
  {
   "attachments": {},
   "cell_type": "markdown",
   "metadata": {},
   "source": [
    "# Monte Carlo Methods"
   ]
  },
  {
   "attachments": {},
   "cell_type": "markdown",
   "metadata": {},
   "source": [
    "In this chapter we will be looking at Monte carlo methods, mainly for integration and optimisation\n",
    "\n",
    "What is numerical integration?\n",
    "\n",
    "Simulation Methods:\n",
    "\n",
    "Deterministic Methods:\n",
    "\n",
    "\n",
    "Here, we will be studying simulation methods to evaluate integrals, but we will be comparing them with their deterministic counterparts to see how the comparison, and look for scope of collaboration between the two."
   ]
  },
  {
   "cell_type": "code",
   "execution_count": null,
   "metadata": {},
   "outputs": [],
   "source": []
  }
 ],
 "metadata": {
  "language_info": {
   "name": "python"
  },
  "orig_nbformat": 4
 },
 "nbformat": 4,
 "nbformat_minor": 2
}
