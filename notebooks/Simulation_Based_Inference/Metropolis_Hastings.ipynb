{
 "cells": [
  {
   "attachments": {},
   "cell_type": "markdown",
   "metadata": {},
   "source": [
    "# Metropolis Hastings\n",
    "\n",
    "## Algorithm\n",
    "\n",
    "The Metropolis-Hastings algorithm is a general term for a family of Markov chain simulation methods that are useful for sampling from Bayesian posterior distributions. MHA, can be considered as a generalisation of the Metropolis algorithm for **Non Symmetric Jump Distributions**.\n",
    "\n",
    "Both Gibbs sampling and Metropolic Algorithm are special cases of Metropolis Hastings Algorithm.\n",
    "\n",
    "The Metropolis-Hastings algorithm generalizes the basic Metropolis algorithm presented above in two ways. \n",
    "1. The jumping rules $J_t$ need no longer be symmetric; that is, there is no requirement that \n",
    "$J_t(\\theta_a|\\theta_b) ≡ J_t(\\theta_b|\\theta_a)$. \n",
    "2. To correct for the asymmetry in the jumping rule, the ratio r for acceptance probability is replaced by a ratio of ratios:\n",
    "\n",
    "$$\n",
    "r = \\frac{p(\\theta^{*}|y)/J_t(\\theta^{*}|\\theta^{t-1})}{p(\\theta^{t-1}|y)/J_t(\\theta^{t-1}|\\theta^{*})}\n",
    "$$\n",
    "\n",
    "This leads to a stationary distribution for the target pdf\n"
   ]
  },
  {
   "cell_type": "code",
   "execution_count": null,
   "metadata": {},
   "outputs": [],
   "source": []
  }
 ],
 "metadata": {
  "language_info": {
   "name": "python"
  },
  "orig_nbformat": 4
 },
 "nbformat": 4,
 "nbformat_minor": 2
}
